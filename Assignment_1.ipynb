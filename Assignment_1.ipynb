{
 "cells": [
  {
   "cell_type": "markdown",
   "id": "86c447de-9bb1-4b48-8a88-956054f6a36b",
   "metadata": {},
   "source": [
    "                  Assignment 1"
   ]
  },
  {
   "cell_type": "markdown",
   "id": "702f8378-3cab-4ada-a6f0-2d8e5bd22e00",
   "metadata": {},
   "source": [
    "1. Who developed Python Programming Language?\n",
    "Ans. Guido Van Rossum"
   ]
  },
  {
   "cell_type": "markdown",
   "id": "a377e3b2-6e12-490a-af2c-96104ba772b1",
   "metadata": {},
   "source": [
    "2. Which type of Programming does Python support?\n",
    "Ans. Object Oriented Programming \n",
    "     Functional Programming \n",
    "     Imperative Programming\n",
    "     Procedural Programming"
   ]
  },
  {
   "cell_type": "markdown",
   "id": "9ccbb415-4686-492b-8c3f-65170c782d96",
   "metadata": {},
   "source": [
    "3. Is Python case sensitive when dealing with identifiers?\n",
    "Ans. Yes"
   ]
  },
  {
   "cell_type": "markdown",
   "id": "0e0c57e2-076a-4a63-9238-1e71925f532e",
   "metadata": {},
   "source": [
    "4. What is the correct extension of the Python file?\n",
    "Ans. .py"
   ]
  },
  {
   "cell_type": "markdown",
   "id": "b1d005a8-aedd-47f9-9f31-b501d5639c98",
   "metadata": {},
   "source": [
    "5. Is Python code compiled or interpreted?\n",
    "Ans. Interpreted"
   ]
  },
  {
   "cell_type": "markdown",
   "id": "e5e3f35f-36d2-4305-b0a9-00c433e272dd",
   "metadata": {},
   "source": [
    "6. Name a few blocks of code used to define in Python language?\n",
    "Ans. indentation"
   ]
  },
  {
   "cell_type": "markdown",
   "id": "c47149e8-84fb-4c2c-8039-a29d5cd14598",
   "metadata": {},
   "source": [
    "7. state a character used to give single-line comments in Python?\n",
    "Ans. #"
   ]
  },
  {
   "cell_type": "markdown",
   "id": "0ae5c281-cec1-4db7-a445-343032b17939",
   "metadata": {},
   "source": [
    "8. Mention functions which can help us to find the version of python that we are currenty working on?\n",
    "Ans. sys.version"
   ]
  },
  {
   "cell_type": "markdown",
   "id": "218b2b55-9f44-4863-9721-fffe7966a1aa",
   "metadata": {},
   "source": [
    "9. Python supports the creation of anonymous functions at runtime,using a construct called_______.\n",
    "Ans. Lambda"
   ]
  },
  {
   "cell_type": "markdown",
   "id": "10ed3687-7ca4-497e-bc16-3f258283a26b",
   "metadata": {},
   "source": [
    "10. What does pip stand for python?\n",
    "Ans. Package Manager"
   ]
  },
  {
   "cell_type": "markdown",
   "id": "8d9fb248-1f97-4da6-81ba-135f77fb83da",
   "metadata": {},
   "source": [
    "11. Mention a few built-in function in python?\n",
    "Ans. divmod () - returns the quotient and remainder when                  one number is divided by another\n",
    "     sum () - returns the sum of all the elements in a                  list or tuple \n",
    "     round () - rounds a number to the nearest integer \n",
    "     floor () - returns the largest integer less than or                 equal to a given number"
   ]
  },
  {
   "cell_type": "markdown",
   "id": "467ffc90-81da-4756-8dfa-89fd3c471f75",
   "metadata": {},
   "source": [
    "12. What is the maximum possible length of an identifier in Python?\n",
    "Ans. 79 characters"
   ]
  },
  {
   "cell_type": "markdown",
   "id": "9dbaf534-a1c6-48ab-98bc-72bdf9285923",
   "metadata": {},
   "source": [
    "13. What are the benefits of using Python?\n",
    "Ans. Python libraries,python is easy to learn ,user friendly"
   ]
  },
  {
   "cell_type": "markdown",
   "id": "fabeff1b-8752-4b19-bd0f-36de08e85d22",
   "metadata": {},
   "source": [
    "14. How is memory managed in Python?\n",
    "Ans. Through stack and heap memory"
   ]
  },
  {
   "cell_type": "markdown",
   "id": "339ecb6f-0df3-452e-a85b-050f30b405b9",
   "metadata": {},
   "source": [
    "15. How to install Python on Windows and set path variables?\n",
    "Ans. Install python in window\n",
    "     Step 1: Select Version to Install Python\n",
    "     Step 2: Downloading the Python Installer\n",
    "     Step 3: Running the Executable Installer\n",
    "     Step 4:  Verify the Python Installation in Windows\n",
    "        \n",
    "     set path variable\n",
    "     Step 1: Open your This PC (or My Computer) and write click and click on properties.\n",
    "     Step 2: After the properties window pop up click on to Advance System Settings:\n",
    "     Step 3: Now click on the environment variable button in the new popped up window as shown below:\n",
    "     Step 4: Now in the new Environment Variable dialog box click on New\n",
    "     Step 5: Now in the variable dialog box add the name of the variable as PYTHONPATH and in value add the location to the module directory that you              want python to check every time\n",
    "     Step 6: Now open your command prompt and execute the my_script.py file with the below command:\n",
    "             python my_script.py"
   ]
  },
  {
   "cell_type": "markdown",
   "id": "47f08066-5033-4d79-b185-7367354ea4c4",
   "metadata": {},
   "source": [
    "16. Is indentation required in python?\n",
    "Ans. yes"
   ]
  }
 ],
 "metadata": {
  "kernelspec": {
   "display_name": "Python 3 (ipykernel)",
   "language": "python",
   "name": "python3"
  },
  "language_info": {
   "codemirror_mode": {
    "name": "ipython",
    "version": 3
   },
   "file_extension": ".py",
   "mimetype": "text/x-python",
   "name": "python",
   "nbconvert_exporter": "python",
   "pygments_lexer": "ipython3",
   "version": "3.10.8"
  }
 },
 "nbformat": 4,
 "nbformat_minor": 5
}
